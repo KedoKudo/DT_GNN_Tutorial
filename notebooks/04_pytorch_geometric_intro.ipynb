{
 "cells": [
  {
   "cell_type": "markdown",
   "metadata": {},
   "source": [
    "# Introduction to PyTorch Geometric\n",
    "\n",
    "## Table of Contents\n",
    "\n",
    "1. [Overview of PyG](#Overview-of-PyG)\n",
    "2. [PyG's Data Design](#PyGs-Data-Design)\n",
    "3. [Simple Example with PyG](#Simple-Example-with-PyG)\n",
    "4. [Batch Training with PyG's Data Loader](#Batch-Training-with-PyGs-Data-Loader)"
   ]
  },
  {
   "cell_type": "code",
   "execution_count": 1,
   "metadata": {},
   "outputs": [],
   "source": [
    "# Uncomment the following line to install PyTorch Geometric when running on Google Colab\n",
    "# !pip install torch torchvison torchaudio torch-geometric"
   ]
  },
  {
   "cell_type": "markdown",
   "metadata": {},
   "source": [
    "## Overview of PyG <a name=\"Overview-of-PyG\"></a>\n",
    "\n",
    "PyTorch Geometric (PyG) is an extension library for PyTorch dedicated to the processing of irregularly structured input data, primarily graphs.\n",
    "Here's a brief history:\n",
    "\n",
    "- Rapid adoption due to its simplicity and operation efficiency.\n",
    "- Inherits PyTorch's dynamic computation graph for flexibility.\n",
    "- Offers methods for both shallow and deep graph learning.\n",
    "- Regular updates have incorporated numerous methods and functions, making it a leading graph learning library.\n",
    "\n",
    "It has other extension libraries, such as [PyTorch Geometric Temporal](https://pytorch-geometric-temporal.readthedocs.io/en/latest/), which is dedicated to the processing of temporal graphs.\n",
    "\n",
    "In addition, there has been a commercialization of PyG, [kumo.ai](https://kumo.ai/pyg), which offers a cloud-based service for PyG."
   ]
  },
  {
   "cell_type": "code",
   "execution_count": 2,
   "metadata": {},
   "outputs": [
    {
     "name": "stdout",
     "output_type": "stream",
     "text": [
      "2.0.1\n",
      "2.3.1\n"
     ]
    }
   ],
   "source": [
    "import torch\n",
    "import torch_geometric\n",
    "\n",
    "print(torch.__version__)\n",
    "print(torch_geometric.__version__)"
   ]
  },
  {
   "cell_type": "markdown",
   "metadata": {},
   "source": [
    "## PyG's Data Design <a name=\"PyGs-Data-Design\"></a>\n",
    "\n",
    "PyG represents a graph using the `Data` object.\n",
    "The library documentation provides some very good [tutorial pages](https://pytorch-geometric.readthedocs.io/en/latest/get_started/introduction.html) of how to use this object.\n",
    "Here is a brief summary:\n",
    "\n",
    "- `x`: Node feature matrix of shape `[num_nodes, num_features]`.\n",
    "- `edge_index`: COO format of the graph, a tensor of shape `[2, num_edges]` detailing the source and destination nodes.\n",
    "- It can also handle other attributes like `edge_attr` (edge features) and `y` (labels).\n",
    "- This design can accommodate directed/undirected graphs, with or without self-loops."
   ]
  },
  {
   "cell_type": "code",
   "execution_count": 3,
   "metadata": {},
   "outputs": [
    {
     "name": "stdout",
     "output_type": "stream",
     "text": [
      "Data(x=[5, 1], edge_index=[2, 6])\n"
     ]
    }
   ],
   "source": [
    "from torch_geometric.data import Data\n",
    "\n",
    "# Create a simple graph consisting of 5 nodes and 3 edges\n",
    "edge_index = torch.tensor([[0, 1, 1, 2, 3, 4],\n",
    "                            [1, 0, 2, 1, 4, 3]], dtype=torch.long)\n",
    "x = torch.tensor([[-1], [0], [1], [2], [3]], dtype=torch.float)\n",
    "\n",
    "# Create a PyTorch Geometric data object\n",
    "data = Data(x=x, edge_index=edge_index)\n",
    "\n",
    "# Print the data object\n",
    "print(data)"
   ]
  },
  {
   "cell_type": "code",
   "execution_count": 4,
   "metadata": {},
   "outputs": [
    {
     "name": "stdout",
     "output_type": "stream",
     "text": [
      "tensor([[-1.],\n",
      "        [ 0.],\n",
      "        [ 1.],\n",
      "        [ 2.],\n",
      "        [ 3.]])\n"
     ]
    }
   ],
   "source": [
    "print(data.x)"
   ]
  },
  {
   "cell_type": "code",
   "execution_count": 5,
   "metadata": {},
   "outputs": [
    {
     "name": "stdout",
     "output_type": "stream",
     "text": [
      "tensor([[0, 1, 1, 2, 3, 4],\n",
      "        [1, 0, 2, 1, 4, 3]])\n"
     ]
    }
   ],
   "source": [
    "print(data.edge_index)"
   ]
  },
  {
   "cell_type": "markdown",
   "metadata": {},
   "source": [
    "## Simple Example with PyG <a name=\"Simple-Example-with-PyG\"></a>\n",
    "\n",
    "Let's make a simple GCN example of using PyG."
   ]
  },
  {
   "cell_type": "code",
   "execution_count": 6,
   "metadata": {},
   "outputs": [
    {
     "name": "stdout",
     "output_type": "stream",
     "text": [
      "tensor([[ 0.0459, -0.2145,  0.1862, -0.0690, -0.2283,  0.1475,  0.0537,  0.2962,\n",
      "         -0.1845, -0.1252,  0.2950, -0.1470,  0.2676,  0.2358,  0.0294,  0.0059],\n",
      "        [ 0.0000,  0.0000,  0.0000,  0.0000,  0.0000,  0.0000,  0.0000,  0.0000,\n",
      "          0.0000,  0.0000,  0.0000,  0.0000,  0.0000,  0.0000,  0.0000,  0.0000],\n",
      "        [-0.0459,  0.2145, -0.1862,  0.0690,  0.2283, -0.1475, -0.0537, -0.2962,\n",
      "          0.1845,  0.1252, -0.2950,  0.1470, -0.2676, -0.2358, -0.0294, -0.0059]],\n",
      "       grad_fn=<AddBackward0>)\n"
     ]
    }
   ],
   "source": [
    "from torch_geometric.nn import GCNConv\n",
    "\n",
    "# Graph data\n",
    "edge_index = torch.tensor([[0, 1, 1, 2], [1, 0, 2, 1]], dtype=torch.long)\n",
    "x = torch.tensor([[-1], [0], [1]], dtype=torch.float)\n",
    "data = Data(x=x, edge_index=edge_index)\n",
    "\n",
    "# GCN Layer\n",
    "class SimpleGCN(torch.nn.Module):\n",
    "    def __init__(self, input_dim, output_dim):\n",
    "        super(SimpleGCN, self).__init__()\n",
    "        self.conv = GCNConv(input_dim, output_dim)\n",
    "\n",
    "    def forward(self, data):\n",
    "        x, edge_index = data.x, data.edge_index\n",
    "        x = self.conv(x, edge_index)\n",
    "        return x\n",
    "\n",
    "model = SimpleGCN(input_dim=1, output_dim=16)\n",
    "out = model(data)\n",
    "print(out)"
   ]
  },
  {
   "cell_type": "markdown",
   "metadata": {},
   "source": [
    "## Batch Training with PyG's Data Loader <a name=\"Batch-Training-with-PyGs-Data-Loader\"></a>\n",
    "\n",
    "PyTorch provides a `DataLoader` for easy batching of data, which is very useful during training and testing.\n",
    "However, due to the irregularity of graph data, it is not trivial to batch graphs using PyTorch's `DataLoader`.\n",
    "To address this issue, PyG provides a `DataLoader` for easy batching of graph data."
   ]
  },
  {
   "cell_type": "code",
   "execution_count": 7,
   "metadata": {},
   "outputs": [
    {
     "name": "stdout",
     "output_type": "stream",
     "text": [
      "tensor([[ 0.0459, -0.2145,  0.1862, -0.0690, -0.2283,  0.1475,  0.0537,  0.2962,\n",
      "         -0.1845, -0.1252,  0.2950, -0.1470,  0.2676,  0.2358,  0.0294,  0.0059],\n",
      "        [ 0.0000,  0.0000,  0.0000,  0.0000,  0.0000,  0.0000,  0.0000,  0.0000,\n",
      "          0.0000,  0.0000,  0.0000,  0.0000,  0.0000,  0.0000,  0.0000,  0.0000],\n",
      "        [-0.0459,  0.2145, -0.1862,  0.0690,  0.2283, -0.1475, -0.0537, -0.2962,\n",
      "          0.1845,  0.1252, -0.2950,  0.1470, -0.2676, -0.2358, -0.0294, -0.0059]],\n",
      "       grad_fn=<AddBackward0>)\n",
      "tensor([[ 0.0459, -0.2145,  0.1862, -0.0690, -0.2283,  0.1475,  0.0537,  0.2962,\n",
      "         -0.1845, -0.1252,  0.2950, -0.1470,  0.2676,  0.2358,  0.0294,  0.0059],\n",
      "        [ 0.0000,  0.0000,  0.0000,  0.0000,  0.0000,  0.0000,  0.0000,  0.0000,\n",
      "          0.0000,  0.0000,  0.0000,  0.0000,  0.0000,  0.0000,  0.0000,  0.0000],\n",
      "        [-0.0459,  0.2145, -0.1862,  0.0690,  0.2283, -0.1475, -0.0537, -0.2962,\n",
      "          0.1845,  0.1252, -0.2950,  0.1470, -0.2676, -0.2358, -0.0294, -0.0059]],\n",
      "       grad_fn=<AddBackward0>)\n"
     ]
    }
   ],
   "source": [
    "from torch_geometric.loader import DataLoader\n",
    "\n",
    "# Let's assume a list of Data objects as our dataset\n",
    "dataset = [data, data]  # Using the previously defined data object for simplicity\n",
    "\n",
    "loader = DataLoader(dataset, batch_size=1, shuffle=True)\n",
    "\n",
    "for batch in loader:\n",
    "    out = model(batch)\n",
    "    print(out)"
   ]
  },
  {
   "cell_type": "markdown",
   "metadata": {},
   "source": [
    "`DataLoader` can batch multiple graphs of varying sizes into one batch by creating a disconnected graph.\n",
    "It's a powerful utility, especially when training large sets of graphs."
   ]
  },
  {
   "cell_type": "code",
   "execution_count": null,
   "metadata": {},
   "outputs": [],
   "source": []
  }
 ],
 "metadata": {
  "kernelspec": {
   "display_name": "Python 3",
   "language": "python",
   "name": "python3"
  },
  "language_info": {
   "codemirror_mode": {
    "name": "ipython",
    "version": 3
   },
   "file_extension": ".py",
   "mimetype": "text/x-python",
   "name": "python",
   "nbconvert_exporter": "python",
   "pygments_lexer": "ipython3",
   "version": "3.11.5"
  },
  "orig_nbformat": 4
 },
 "nbformat": 4,
 "nbformat_minor": 2
}
